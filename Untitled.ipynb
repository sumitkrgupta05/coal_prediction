{
 "cells": [
  {
   "cell_type": "code",
   "execution_count": 1,
   "id": "26ab4f25-70b8-4a79-aae9-850833cb04bf",
   "metadata": {},
   "outputs": [],
   "source": [
    "import numpy as np\n",
    "import pandas as pd\n",
    "import warnings \n",
    "warnings.filterwarnings('ignore')"
   ]
  },
  {
   "cell_type": "markdown",
   "id": "56ecc272-e988-46c8-9d0e-72b9c7659ceb",
   "metadata": {},
   "source": [
    "### Data Cleaning"
   ]
  },
  {
   "cell_type": "code",
   "execution_count": 2,
   "id": "f54e470f-a1df-4f2e-8713-8e4424f9d5ef",
   "metadata": {},
   "outputs": [
    {
     "data": {
      "text/html": [
       "<div>\n",
       "<style scoped>\n",
       "    .dataframe tbody tr th:only-of-type {\n",
       "        vertical-align: middle;\n",
       "    }\n",
       "\n",
       "    .dataframe tbody tr th {\n",
       "        vertical-align: top;\n",
       "    }\n",
       "\n",
       "    .dataframe thead th {\n",
       "        text-align: right;\n",
       "    }\n",
       "</style>\n",
       "<table border=\"1\" class=\"dataframe\">\n",
       "  <thead>\n",
       "    <tr style=\"text-align: right;\">\n",
       "      <th></th>\n",
       "      <th>PLANT</th>\n",
       "      <th>BASKET</th>\n",
       "      <th>GRADE</th>\n",
       "      <th>LSGID</th>\n",
       "      <th>MNTH</th>\n",
       "      <th>Wagon Type</th>\n",
       "      <th>PORT</th>\n",
       "      <th>RAKE</th>\n",
       "      <th>VESSEL</th>\n",
       "      <th>CONTRACTED</th>\n",
       "      <th>LP</th>\n",
       "      <th>DP</th>\n",
       "      <th>Port_Outgoing_Rake</th>\n",
       "      <th>Plant_Incoming_Rake</th>\n",
       "      <th>Total Quantity</th>\n",
       "      <th>FS</th>\n",
       "    </tr>\n",
       "  </thead>\n",
       "  <tbody>\n",
       "    <tr>\n",
       "      <th>0</th>\n",
       "      <td>TSJ</td>\n",
       "      <td>HCC</td>\n",
       "      <td>Lampunut</td>\n",
       "      <td>-</td>\n",
       "      <td>21-MAR-2023</td>\n",
       "      <td>BOXNHL</td>\n",
       "      <td>DHM</td>\n",
       "      <td>TS03TWS97</td>\n",
       "      <td>BENTLEY</td>\n",
       "      <td>4.78</td>\n",
       "      <td>NaN</td>\n",
       "      <td>4.53</td>\n",
       "      <td>4.85</td>\n",
       "      <td>4.36</td>\n",
       "      <td>4008.00</td>\n",
       "      <td>NaN</td>\n",
       "    </tr>\n",
       "    <tr>\n",
       "      <th>1</th>\n",
       "      <td>TSJ</td>\n",
       "      <td>HCC</td>\n",
       "      <td>TAHMOOR</td>\n",
       "      <td>C87</td>\n",
       "      <td>17-JUL-2023</td>\n",
       "      <td>BOXNHL</td>\n",
       "      <td>DHM</td>\n",
       "      <td>TS07TWS70</td>\n",
       "      <td>RANGIROA</td>\n",
       "      <td>9.78</td>\n",
       "      <td>9.3</td>\n",
       "      <td>9.25</td>\n",
       "      <td>9.47</td>\n",
       "      <td>8.53</td>\n",
       "      <td>3995.00</td>\n",
       "      <td>NaN</td>\n",
       "    </tr>\n",
       "    <tr>\n",
       "      <th>2</th>\n",
       "      <td>TSJ</td>\n",
       "      <td>HCC</td>\n",
       "      <td>TAHMOOR</td>\n",
       "      <td>C87</td>\n",
       "      <td>25-DEC-2023</td>\n",
       "      <td>BOXNHL</td>\n",
       "      <td>DHM</td>\n",
       "      <td>TS12TWS110</td>\n",
       "      <td>MINERVA PROVIDENCE</td>\n",
       "      <td>9.78</td>\n",
       "      <td>9.2</td>\n",
       "      <td>9.16</td>\n",
       "      <td>9.08</td>\n",
       "      <td>NaN</td>\n",
       "      <td>3967.80</td>\n",
       "      <td>8.60</td>\n",
       "    </tr>\n",
       "    <tr>\n",
       "      <th>3</th>\n",
       "      <td>TSJ</td>\n",
       "      <td>HCC</td>\n",
       "      <td>TAHMOOR</td>\n",
       "      <td>C87</td>\n",
       "      <td>19-DEC-2023</td>\n",
       "      <td>BOXNHL</td>\n",
       "      <td>DHM</td>\n",
       "      <td>TS12TWS83</td>\n",
       "      <td>Ubuntu Harmony</td>\n",
       "      <td>9.78</td>\n",
       "      <td>9.3</td>\n",
       "      <td>9.22</td>\n",
       "      <td>9.18</td>\n",
       "      <td>NaN</td>\n",
       "      <td>4047.80</td>\n",
       "      <td>8.62</td>\n",
       "    </tr>\n",
       "    <tr>\n",
       "      <th>4</th>\n",
       "      <td>TSJ</td>\n",
       "      <td>HCC</td>\n",
       "      <td>TAHMOOR</td>\n",
       "      <td>C87</td>\n",
       "      <td>08-MAR-2024</td>\n",
       "      <td>BOXNHL</td>\n",
       "      <td>HLD</td>\n",
       "      <td>T03NHT16</td>\n",
       "      <td>ULTRA PUMA</td>\n",
       "      <td>9.78</td>\n",
       "      <td>9.2</td>\n",
       "      <td>9.18</td>\n",
       "      <td>NaN</td>\n",
       "      <td>NaN</td>\n",
       "      <td>3565.93</td>\n",
       "      <td>9.44</td>\n",
       "    </tr>\n",
       "  </tbody>\n",
       "</table>\n",
       "</div>"
      ],
      "text/plain": [
       "  PLANT BASKET     GRADE LSGID         MNTH Wagon Type PORT        RAKE  \\\n",
       "0   TSJ    HCC  Lampunut     -  21-MAR-2023     BOXNHL  DHM   TS03TWS97   \n",
       "1   TSJ    HCC   TAHMOOR   C87  17-JUL-2023     BOXNHL  DHM   TS07TWS70   \n",
       "2   TSJ    HCC   TAHMOOR   C87  25-DEC-2023     BOXNHL  DHM  TS12TWS110   \n",
       "3   TSJ    HCC   TAHMOOR   C87  19-DEC-2023     BOXNHL  DHM   TS12TWS83   \n",
       "4   TSJ    HCC   TAHMOOR   C87  08-MAR-2024     BOXNHL  HLD    T03NHT16   \n",
       "\n",
       "               VESSEL  CONTRACTED   LP    DP  Port_Outgoing_Rake  \\\n",
       "0             BENTLEY        4.78  NaN  4.53                4.85   \n",
       "1            RANGIROA        9.78  9.3  9.25                9.47   \n",
       "2  MINERVA PROVIDENCE        9.78  9.2  9.16                9.08   \n",
       "3      Ubuntu Harmony        9.78  9.3  9.22                9.18   \n",
       "4          ULTRA PUMA        9.78  9.2  9.18                 NaN   \n",
       "\n",
       "   Plant_Incoming_Rake  Total Quantity    FS  \n",
       "0                 4.36         4008.00   NaN  \n",
       "1                 8.53         3995.00   NaN  \n",
       "2                  NaN         3967.80  8.60  \n",
       "3                  NaN         4047.80  8.62  \n",
       "4                  NaN         3565.93  9.44  "
      ]
     },
     "execution_count": 2,
     "metadata": {},
     "output_type": "execute_result"
    }
   ],
   "source": [
    "df = pd.read_excel('copy_data.xlsx',sheet_name=\"working_data\")\n",
    "df.head()"
   ]
  },
  {
   "cell_type": "code",
   "execution_count": 3,
   "id": "cfd28e9f-e678-44f2-a1be-ab557ea8f3c8",
   "metadata": {},
   "outputs": [
    {
     "data": {
      "text/plain": [
       "(4042, 16)"
      ]
     },
     "execution_count": 3,
     "metadata": {},
     "output_type": "execute_result"
    }
   ],
   "source": [
    "df.shape"
   ]
  },
  {
   "cell_type": "code",
   "execution_count": 4,
   "id": "14bc13ee-8363-467f-bdb4-82c6060e1773",
   "metadata": {},
   "outputs": [
    {
     "data": {
      "text/plain": [
       "Index(['PLANT', 'BASKET', 'GRADE', 'LSGID', 'MNTH', 'Wagon Type', 'PORT',\n",
       "       'RAKE', 'VESSEL', 'CONTRACTED', 'LP', 'DP', 'Port_Outgoing_Rake',\n",
       "       'Plant_Incoming_Rake', 'Total Quantity', 'FS'],\n",
       "      dtype='object')"
      ]
     },
     "execution_count": 4,
     "metadata": {},
     "output_type": "execute_result"
    }
   ],
   "source": [
    "df.columns"
   ]
  },
  {
   "cell_type": "code",
   "execution_count": 5,
   "id": "cdfbca1a-b551-4c42-b010-d695c616d102",
   "metadata": {},
   "outputs": [],
   "source": [
    "df.drop(['PLANT','BASKET', 'GRADE', 'LSGID', 'MNTH', 'Wagon Type', 'PORT',\n",
    "       'RAKE', 'VESSEL', 'CONTRACTED', 'Total Quantity', 'FS'] , axis='columns', inplace=True)"
   ]
  },
  {
   "cell_type": "code",
   "execution_count": 6,
   "id": "92a1e723-c53c-4c02-91f0-9eb3f5c643be",
   "metadata": {},
   "outputs": [
    {
     "data": {
      "text/plain": [
       "<bound method DataFrame.info of         LP     DP  Port_Outgoing_Rake  Plant_Incoming_Rake\n",
       "0      NaN   4.53                4.85                 4.36\n",
       "1      9.3   9.25                9.47                 8.53\n",
       "2      9.2   9.16                9.08                  NaN\n",
       "3      9.3   9.22                9.18                  NaN\n",
       "4      9.2   9.18                 NaN                  NaN\n",
       "...    ...    ...                 ...                  ...\n",
       "4037   9.1    NaN               10.24                11.06\n",
       "4038  10.3  10.58                 NaN                  NaN\n",
       "4039   NaN    NaN                9.35                 9.20\n",
       "4040   NaN    NaN                 NaN                  NaN\n",
       "4041   9.5    NaN                9.54                  NaN\n",
       "\n",
       "[4042 rows x 4 columns]>"
      ]
     },
     "execution_count": 6,
     "metadata": {},
     "output_type": "execute_result"
    }
   ],
   "source": [
    "df.info"
   ]
  },
  {
   "cell_type": "code",
   "execution_count": 7,
   "id": "4d1d2fbf-6ef7-45be-b4c5-df00f16287d3",
   "metadata": {},
   "outputs": [
    {
     "data": {
      "text/plain": [
       "LP                      220\n",
       "DP                      324\n",
       "Port_Outgoing_Rake      710\n",
       "Plant_Incoming_Rake    1718\n",
       "dtype: int64"
      ]
     },
     "execution_count": 7,
     "metadata": {},
     "output_type": "execute_result"
    }
   ],
   "source": [
    "pd.isnull(df).sum()"
   ]
  },
  {
   "cell_type": "code",
   "execution_count": 8,
   "id": "9a5b54d7-16da-44e7-802d-cdb6b624a732",
   "metadata": {},
   "outputs": [],
   "source": [
    "df.dropna(inplace=True)"
   ]
  },
  {
   "cell_type": "code",
   "execution_count": 9,
   "id": "2face159-fa22-4415-9319-e3a77c8fa105",
   "metadata": {},
   "outputs": [
    {
     "data": {
      "text/plain": [
       "(1712, 4)"
      ]
     },
     "execution_count": 9,
     "metadata": {},
     "output_type": "execute_result"
    }
   ],
   "source": [
    "df.shape"
   ]
  },
  {
   "cell_type": "code",
   "execution_count": 10,
   "id": "892cf2ac-8d0c-4886-ac91-a04d8d1db1d7",
   "metadata": {},
   "outputs": [
    {
     "data": {
      "text/html": [
       "<div>\n",
       "<style scoped>\n",
       "    .dataframe tbody tr th:only-of-type {\n",
       "        vertical-align: middle;\n",
       "    }\n",
       "\n",
       "    .dataframe tbody tr th {\n",
       "        vertical-align: top;\n",
       "    }\n",
       "\n",
       "    .dataframe thead th {\n",
       "        text-align: right;\n",
       "    }\n",
       "</style>\n",
       "<table border=\"1\" class=\"dataframe\">\n",
       "  <thead>\n",
       "    <tr style=\"text-align: right;\">\n",
       "      <th></th>\n",
       "      <th>LP</th>\n",
       "      <th>DP</th>\n",
       "      <th>Port_Outgoing_Rake</th>\n",
       "      <th>Plant_Incoming_Rake</th>\n",
       "    </tr>\n",
       "  </thead>\n",
       "  <tbody>\n",
       "    <tr>\n",
       "      <th>1</th>\n",
       "      <td>9.3</td>\n",
       "      <td>9.25</td>\n",
       "      <td>9.47</td>\n",
       "      <td>8.53</td>\n",
       "    </tr>\n",
       "    <tr>\n",
       "      <th>7</th>\n",
       "      <td>9.2</td>\n",
       "      <td>9.15</td>\n",
       "      <td>9.58</td>\n",
       "      <td>8.44</td>\n",
       "    </tr>\n",
       "    <tr>\n",
       "      <th>8</th>\n",
       "      <td>9.8</td>\n",
       "      <td>9.64</td>\n",
       "      <td>9.57</td>\n",
       "      <td>9.36</td>\n",
       "    </tr>\n",
       "    <tr>\n",
       "      <th>9</th>\n",
       "      <td>9.6</td>\n",
       "      <td>9.16</td>\n",
       "      <td>9.24</td>\n",
       "      <td>9.18</td>\n",
       "    </tr>\n",
       "    <tr>\n",
       "      <th>10</th>\n",
       "      <td>9.9</td>\n",
       "      <td>10.25</td>\n",
       "      <td>10.15</td>\n",
       "      <td>7.75</td>\n",
       "    </tr>\n",
       "    <tr>\n",
       "      <th>...</th>\n",
       "      <td>...</td>\n",
       "      <td>...</td>\n",
       "      <td>...</td>\n",
       "      <td>...</td>\n",
       "    </tr>\n",
       "    <tr>\n",
       "      <th>4023</th>\n",
       "      <td>9.4</td>\n",
       "      <td>9.94</td>\n",
       "      <td>9.89</td>\n",
       "      <td>9.34</td>\n",
       "    </tr>\n",
       "    <tr>\n",
       "      <th>4027</th>\n",
       "      <td>9.5</td>\n",
       "      <td>9.25</td>\n",
       "      <td>9.48</td>\n",
       "      <td>10.15</td>\n",
       "    </tr>\n",
       "    <tr>\n",
       "      <th>4029</th>\n",
       "      <td>9.5</td>\n",
       "      <td>9.95</td>\n",
       "      <td>10.47</td>\n",
       "      <td>9.32</td>\n",
       "    </tr>\n",
       "    <tr>\n",
       "      <th>4031</th>\n",
       "      <td>10.4</td>\n",
       "      <td>10.83</td>\n",
       "      <td>10.02</td>\n",
       "      <td>11.40</td>\n",
       "    </tr>\n",
       "    <tr>\n",
       "      <th>4033</th>\n",
       "      <td>11.4</td>\n",
       "      <td>11.77</td>\n",
       "      <td>11.91</td>\n",
       "      <td>11.40</td>\n",
       "    </tr>\n",
       "  </tbody>\n",
       "</table>\n",
       "<p>1712 rows × 4 columns</p>\n",
       "</div>"
      ],
      "text/plain": [
       "        LP     DP  Port_Outgoing_Rake  Plant_Incoming_Rake\n",
       "1      9.3   9.25                9.47                 8.53\n",
       "7      9.2   9.15                9.58                 8.44\n",
       "8      9.8   9.64                9.57                 9.36\n",
       "9      9.6   9.16                9.24                 9.18\n",
       "10     9.9  10.25               10.15                 7.75\n",
       "...    ...    ...                 ...                  ...\n",
       "4023   9.4   9.94                9.89                 9.34\n",
       "4027   9.5   9.25                9.48                10.15\n",
       "4029   9.5   9.95               10.47                 9.32\n",
       "4031  10.4  10.83               10.02                11.40\n",
       "4033  11.4  11.77               11.91                11.40\n",
       "\n",
       "[1712 rows x 4 columns]"
      ]
     },
     "execution_count": 10,
     "metadata": {},
     "output_type": "execute_result"
    }
   ],
   "source": [
    "df"
   ]
  },
  {
   "cell_type": "code",
   "execution_count": 11,
   "id": "a4a8bf07-7bf2-4961-8a0c-431cd89ff555",
   "metadata": {},
   "outputs": [
    {
     "data": {
      "text/html": [
       "<div>\n",
       "<style scoped>\n",
       "    .dataframe tbody tr th:only-of-type {\n",
       "        vertical-align: middle;\n",
       "    }\n",
       "\n",
       "    .dataframe tbody tr th {\n",
       "        vertical-align: top;\n",
       "    }\n",
       "\n",
       "    .dataframe thead th {\n",
       "        text-align: right;\n",
       "    }\n",
       "</style>\n",
       "<table border=\"1\" class=\"dataframe\">\n",
       "  <thead>\n",
       "    <tr style=\"text-align: right;\">\n",
       "      <th></th>\n",
       "      <th>K</th>\n",
       "      <th>L</th>\n",
       "      <th>M</th>\n",
       "      <th>N</th>\n",
       "    </tr>\n",
       "  </thead>\n",
       "  <tbody>\n",
       "    <tr>\n",
       "      <th>1</th>\n",
       "      <td>9.3</td>\n",
       "      <td>9.25</td>\n",
       "      <td>9.47</td>\n",
       "      <td>8.53</td>\n",
       "    </tr>\n",
       "    <tr>\n",
       "      <th>7</th>\n",
       "      <td>9.2</td>\n",
       "      <td>9.15</td>\n",
       "      <td>9.58</td>\n",
       "      <td>8.44</td>\n",
       "    </tr>\n",
       "    <tr>\n",
       "      <th>8</th>\n",
       "      <td>9.8</td>\n",
       "      <td>9.64</td>\n",
       "      <td>9.57</td>\n",
       "      <td>9.36</td>\n",
       "    </tr>\n",
       "    <tr>\n",
       "      <th>9</th>\n",
       "      <td>9.6</td>\n",
       "      <td>9.16</td>\n",
       "      <td>9.24</td>\n",
       "      <td>9.18</td>\n",
       "    </tr>\n",
       "    <tr>\n",
       "      <th>10</th>\n",
       "      <td>9.9</td>\n",
       "      <td>10.25</td>\n",
       "      <td>10.15</td>\n",
       "      <td>7.75</td>\n",
       "    </tr>\n",
       "  </tbody>\n",
       "</table>\n",
       "</div>"
      ],
      "text/plain": [
       "      K      L      M     N\n",
       "1   9.3   9.25   9.47  8.53\n",
       "7   9.2   9.15   9.58  8.44\n",
       "8   9.8   9.64   9.57  9.36\n",
       "9   9.6   9.16   9.24  9.18\n",
       "10  9.9  10.25  10.15  7.75"
      ]
     },
     "execution_count": 11,
     "metadata": {},
     "output_type": "execute_result"
    }
   ],
   "source": [
    "df.rename(columns={'LP':'K','DP':'L','Port_Outgoing_Rake':'M','Plant_Incoming_Rake':'N'}).head(5)"
   ]
  },
  {
   "cell_type": "code",
   "execution_count": 12,
   "id": "a2d9309d-43c1-4c12-a3a9-0a288437e5a8",
   "metadata": {},
   "outputs": [],
   "source": [
    "df.to_csv('clean_data.csv',index=False)"
   ]
  },
  {
   "cell_type": "code",
   "execution_count": 13,
   "id": "7e67e34f-1540-4c26-a496-d4c96cfa279d",
   "metadata": {},
   "outputs": [],
   "source": [
    "# data = df.groupby('PLANT')\n",
    "# for x,y in data:\n",
    "#     print(x)\n",
    "#     print(y)\n",
    "#     print()"
   ]
  },
  {
   "cell_type": "code",
   "execution_count": 14,
   "id": "a2090c8d-3002-4bb4-8b24-4a3a09dcce2d",
   "metadata": {},
   "outputs": [],
   "source": [
    "from sklearn import linear_model"
   ]
  },
  {
   "cell_type": "code",
   "execution_count": 15,
   "id": "e60c4486-9495-4f8d-a002-ea37e47789a6",
   "metadata": {},
   "outputs": [
    {
     "data": {
      "text/html": [
       "<style>#sk-container-id-1 {color: black;background-color: white;}#sk-container-id-1 pre{padding: 0;}#sk-container-id-1 div.sk-toggleable {background-color: white;}#sk-container-id-1 label.sk-toggleable__label {cursor: pointer;display: block;width: 100%;margin-bottom: 0;padding: 0.3em;box-sizing: border-box;text-align: center;}#sk-container-id-1 label.sk-toggleable__label-arrow:before {content: \"▸\";float: left;margin-right: 0.25em;color: #696969;}#sk-container-id-1 label.sk-toggleable__label-arrow:hover:before {color: black;}#sk-container-id-1 div.sk-estimator:hover label.sk-toggleable__label-arrow:before {color: black;}#sk-container-id-1 div.sk-toggleable__content {max-height: 0;max-width: 0;overflow: hidden;text-align: left;background-color: #f0f8ff;}#sk-container-id-1 div.sk-toggleable__content pre {margin: 0.2em;color: black;border-radius: 0.25em;background-color: #f0f8ff;}#sk-container-id-1 input.sk-toggleable__control:checked~div.sk-toggleable__content {max-height: 200px;max-width: 100%;overflow: auto;}#sk-container-id-1 input.sk-toggleable__control:checked~label.sk-toggleable__label-arrow:before {content: \"▾\";}#sk-container-id-1 div.sk-estimator input.sk-toggleable__control:checked~label.sk-toggleable__label {background-color: #d4ebff;}#sk-container-id-1 div.sk-label input.sk-toggleable__control:checked~label.sk-toggleable__label {background-color: #d4ebff;}#sk-container-id-1 input.sk-hidden--visually {border: 0;clip: rect(1px 1px 1px 1px);clip: rect(1px, 1px, 1px, 1px);height: 1px;margin: -1px;overflow: hidden;padding: 0;position: absolute;width: 1px;}#sk-container-id-1 div.sk-estimator {font-family: monospace;background-color: #f0f8ff;border: 1px dotted black;border-radius: 0.25em;box-sizing: border-box;margin-bottom: 0.5em;}#sk-container-id-1 div.sk-estimator:hover {background-color: #d4ebff;}#sk-container-id-1 div.sk-parallel-item::after {content: \"\";width: 100%;border-bottom: 1px solid gray;flex-grow: 1;}#sk-container-id-1 div.sk-label:hover label.sk-toggleable__label {background-color: #d4ebff;}#sk-container-id-1 div.sk-serial::before {content: \"\";position: absolute;border-left: 1px solid gray;box-sizing: border-box;top: 0;bottom: 0;left: 50%;z-index: 0;}#sk-container-id-1 div.sk-serial {display: flex;flex-direction: column;align-items: center;background-color: white;padding-right: 0.2em;padding-left: 0.2em;position: relative;}#sk-container-id-1 div.sk-item {position: relative;z-index: 1;}#sk-container-id-1 div.sk-parallel {display: flex;align-items: stretch;justify-content: center;background-color: white;position: relative;}#sk-container-id-1 div.sk-item::before, #sk-container-id-1 div.sk-parallel-item::before {content: \"\";position: absolute;border-left: 1px solid gray;box-sizing: border-box;top: 0;bottom: 0;left: 50%;z-index: -1;}#sk-container-id-1 div.sk-parallel-item {display: flex;flex-direction: column;z-index: 1;position: relative;background-color: white;}#sk-container-id-1 div.sk-parallel-item:first-child::after {align-self: flex-end;width: 50%;}#sk-container-id-1 div.sk-parallel-item:last-child::after {align-self: flex-start;width: 50%;}#sk-container-id-1 div.sk-parallel-item:only-child::after {width: 0;}#sk-container-id-1 div.sk-dashed-wrapped {border: 1px dashed gray;margin: 0 0.4em 0.5em 0.4em;box-sizing: border-box;padding-bottom: 0.4em;background-color: white;}#sk-container-id-1 div.sk-label label {font-family: monospace;font-weight: bold;display: inline-block;line-height: 1.2em;}#sk-container-id-1 div.sk-label-container {text-align: center;}#sk-container-id-1 div.sk-container {/* jupyter's `normalize.less` sets `[hidden] { display: none; }` but bootstrap.min.css set `[hidden] { display: none !important; }` so we also need the `!important` here to be able to override the default hidden behavior on the sphinx rendered scikit-learn.org. See: https://github.com/scikit-learn/scikit-learn/issues/21755 */display: inline-block !important;position: relative;}#sk-container-id-1 div.sk-text-repr-fallback {display: none;}</style><div id=\"sk-container-id-1\" class=\"sk-top-container\"><div class=\"sk-text-repr-fallback\"><pre>LinearRegression()</pre><b>In a Jupyter environment, please rerun this cell to show the HTML representation or trust the notebook. <br />On GitHub, the HTML representation is unable to render, please try loading this page with nbviewer.org.</b></div><div class=\"sk-container\" hidden><div class=\"sk-item\"><div class=\"sk-estimator sk-toggleable\"><input class=\"sk-toggleable__control sk-hidden--visually\" id=\"sk-estimator-id-1\" type=\"checkbox\" checked><label for=\"sk-estimator-id-1\" class=\"sk-toggleable__label sk-toggleable__label-arrow\">LinearRegression</label><div class=\"sk-toggleable__content\"><pre>LinearRegression()</pre></div></div></div></div></div>"
      ],
      "text/plain": [
       "LinearRegression()"
      ]
     },
     "execution_count": 15,
     "metadata": {},
     "output_type": "execute_result"
    }
   ],
   "source": [
    "model = linear_model.LinearRegression()\n",
    "model.fit(df[['LP','DP','Port_Outgoing_Rake']],df.Plant_Incoming_Rake)"
   ]
  },
  {
   "cell_type": "code",
   "execution_count": 16,
   "id": "bd32798c-e56c-446e-b991-5773dd039fac",
   "metadata": {},
   "outputs": [
    {
     "data": {
      "text/plain": [
       "array([7.28842665])"
      ]
     },
     "execution_count": 16,
     "metadata": {},
     "output_type": "execute_result"
    }
   ],
   "source": [
    "model.predict([[9,5,10]])"
   ]
  },
  {
   "cell_type": "markdown",
   "id": "677281b1-a362-4fd0-9134-4147484289ac",
   "metadata": {},
   "source": [
    "### Save Model To a File Using Joblib"
   ]
  },
  {
   "cell_type": "code",
   "execution_count": 17,
   "id": "12d915f5-b14f-4444-aa94-e6eef4003f30",
   "metadata": {},
   "outputs": [
    {
     "data": {
      "text/plain": [
       "['model_joblib']"
      ]
     },
     "execution_count": 17,
     "metadata": {},
     "output_type": "execute_result"
    }
   ],
   "source": [
    "import joblib\n",
    "joblib.dump(model, 'model_joblib')"
   ]
  },
  {
   "cell_type": "markdown",
   "id": "0bdcefae-d81a-42a4-8220-aebc87db9820",
   "metadata": {},
   "source": [
    "#### Load Save Model"
   ]
  },
  {
   "cell_type": "code",
   "execution_count": 18,
   "id": "08c9b34b-ee7b-48d2-af6c-5e6f930d0b8a",
   "metadata": {},
   "outputs": [],
   "source": [
    "mj = joblib.load('model_joblib')"
   ]
  },
  {
   "cell_type": "code",
   "execution_count": 19,
   "id": "22555cc7-dfdb-4fab-8af5-db277f357bfc",
   "metadata": {},
   "outputs": [
    {
     "data": {
      "text/plain": [
       "array([9.23789946])"
      ]
     },
     "execution_count": 19,
     "metadata": {},
     "output_type": "execute_result"
    }
   ],
   "source": [
    "mj.predict([[9.6,9.16,9.24]])"
   ]
  },
  {
   "cell_type": "code",
   "execution_count": 20,
   "id": "3cdc75f4-8837-4a5d-a3f5-64c204660896",
   "metadata": {},
   "outputs": [
    {
     "data": {
      "text/plain": [
       "array([9.56775282])"
      ]
     },
     "execution_count": 20,
     "metadata": {},
     "output_type": "execute_result"
    }
   ],
   "source": [
    "mj.predict([[9.8,9.64,9.57]])"
   ]
  },
  {
   "cell_type": "markdown",
   "id": "e2f88781-f255-43b0-bfb2-6ae7f62d43b0",
   "metadata": {},
   "source": [
    "## Training & Testing of model"
   ]
  },
  {
   "cell_type": "code",
   "execution_count": 28,
   "id": "d80ea867-5e1a-48af-8111-6b11e2a7d3f0",
   "metadata": {},
   "outputs": [],
   "source": [
    "x=df[['LP','DP','Port_Outgoing_Rake']]\n",
    "y=df[['Plant_Incoming_Rake']]"
   ]
  },
  {
   "cell_type": "code",
   "execution_count": 54,
   "id": "2efba5f0-4fdf-42c8-82f2-9d7479c2b1df",
   "metadata": {},
   "outputs": [],
   "source": [
    "from sklearn.model_selection import train_test_split\n",
    "x_train, x_test, y_train, y_test = train_test_split(x,y,test_size=0.2)"
   ]
  },
  {
   "cell_type": "markdown",
   "id": "5f5cc561-d063-46dd-81b6-e940c9f9a494",
   "metadata": {},
   "source": [
    "##### Lets run linear regression model now"
   ]
  },
  {
   "cell_type": "code",
   "execution_count": 55,
   "id": "6d75590d-617c-40b8-9718-267b350e51e0",
   "metadata": {},
   "outputs": [],
   "source": [
    "from sklearn.linear_model import LinearRegression\n",
    "clf=LinearRegression()"
   ]
  },
  {
   "cell_type": "code",
   "execution_count": 56,
   "id": "4332347c-0e5f-4af4-886b-82cd98c251f8",
   "metadata": {},
   "outputs": [
    {
     "data": {
      "text/html": [
       "<style>#sk-container-id-9 {color: black;background-color: white;}#sk-container-id-9 pre{padding: 0;}#sk-container-id-9 div.sk-toggleable {background-color: white;}#sk-container-id-9 label.sk-toggleable__label {cursor: pointer;display: block;width: 100%;margin-bottom: 0;padding: 0.3em;box-sizing: border-box;text-align: center;}#sk-container-id-9 label.sk-toggleable__label-arrow:before {content: \"▸\";float: left;margin-right: 0.25em;color: #696969;}#sk-container-id-9 label.sk-toggleable__label-arrow:hover:before {color: black;}#sk-container-id-9 div.sk-estimator:hover label.sk-toggleable__label-arrow:before {color: black;}#sk-container-id-9 div.sk-toggleable__content {max-height: 0;max-width: 0;overflow: hidden;text-align: left;background-color: #f0f8ff;}#sk-container-id-9 div.sk-toggleable__content pre {margin: 0.2em;color: black;border-radius: 0.25em;background-color: #f0f8ff;}#sk-container-id-9 input.sk-toggleable__control:checked~div.sk-toggleable__content {max-height: 200px;max-width: 100%;overflow: auto;}#sk-container-id-9 input.sk-toggleable__control:checked~label.sk-toggleable__label-arrow:before {content: \"▾\";}#sk-container-id-9 div.sk-estimator input.sk-toggleable__control:checked~label.sk-toggleable__label {background-color: #d4ebff;}#sk-container-id-9 div.sk-label input.sk-toggleable__control:checked~label.sk-toggleable__label {background-color: #d4ebff;}#sk-container-id-9 input.sk-hidden--visually {border: 0;clip: rect(1px 1px 1px 1px);clip: rect(1px, 1px, 1px, 1px);height: 1px;margin: -1px;overflow: hidden;padding: 0;position: absolute;width: 1px;}#sk-container-id-9 div.sk-estimator {font-family: monospace;background-color: #f0f8ff;border: 1px dotted black;border-radius: 0.25em;box-sizing: border-box;margin-bottom: 0.5em;}#sk-container-id-9 div.sk-estimator:hover {background-color: #d4ebff;}#sk-container-id-9 div.sk-parallel-item::after {content: \"\";width: 100%;border-bottom: 1px solid gray;flex-grow: 1;}#sk-container-id-9 div.sk-label:hover label.sk-toggleable__label {background-color: #d4ebff;}#sk-container-id-9 div.sk-serial::before {content: \"\";position: absolute;border-left: 1px solid gray;box-sizing: border-box;top: 0;bottom: 0;left: 50%;z-index: 0;}#sk-container-id-9 div.sk-serial {display: flex;flex-direction: column;align-items: center;background-color: white;padding-right: 0.2em;padding-left: 0.2em;position: relative;}#sk-container-id-9 div.sk-item {position: relative;z-index: 1;}#sk-container-id-9 div.sk-parallel {display: flex;align-items: stretch;justify-content: center;background-color: white;position: relative;}#sk-container-id-9 div.sk-item::before, #sk-container-id-9 div.sk-parallel-item::before {content: \"\";position: absolute;border-left: 1px solid gray;box-sizing: border-box;top: 0;bottom: 0;left: 50%;z-index: -1;}#sk-container-id-9 div.sk-parallel-item {display: flex;flex-direction: column;z-index: 1;position: relative;background-color: white;}#sk-container-id-9 div.sk-parallel-item:first-child::after {align-self: flex-end;width: 50%;}#sk-container-id-9 div.sk-parallel-item:last-child::after {align-self: flex-start;width: 50%;}#sk-container-id-9 div.sk-parallel-item:only-child::after {width: 0;}#sk-container-id-9 div.sk-dashed-wrapped {border: 1px dashed gray;margin: 0 0.4em 0.5em 0.4em;box-sizing: border-box;padding-bottom: 0.4em;background-color: white;}#sk-container-id-9 div.sk-label label {font-family: monospace;font-weight: bold;display: inline-block;line-height: 1.2em;}#sk-container-id-9 div.sk-label-container {text-align: center;}#sk-container-id-9 div.sk-container {/* jupyter's `normalize.less` sets `[hidden] { display: none; }` but bootstrap.min.css set `[hidden] { display: none !important; }` so we also need the `!important` here to be able to override the default hidden behavior on the sphinx rendered scikit-learn.org. See: https://github.com/scikit-learn/scikit-learn/issues/21755 */display: inline-block !important;position: relative;}#sk-container-id-9 div.sk-text-repr-fallback {display: none;}</style><div id=\"sk-container-id-9\" class=\"sk-top-container\"><div class=\"sk-text-repr-fallback\"><pre>LinearRegression()</pre><b>In a Jupyter environment, please rerun this cell to show the HTML representation or trust the notebook. <br />On GitHub, the HTML representation is unable to render, please try loading this page with nbviewer.org.</b></div><div class=\"sk-container\" hidden><div class=\"sk-item\"><div class=\"sk-estimator sk-toggleable\"><input class=\"sk-toggleable__control sk-hidden--visually\" id=\"sk-estimator-id-9\" type=\"checkbox\" checked><label for=\"sk-estimator-id-9\" class=\"sk-toggleable__label sk-toggleable__label-arrow\">LinearRegression</label><div class=\"sk-toggleable__content\"><pre>LinearRegression()</pre></div></div></div></div></div>"
      ],
      "text/plain": [
       "LinearRegression()"
      ]
     },
     "execution_count": 56,
     "metadata": {},
     "output_type": "execute_result"
    }
   ],
   "source": [
    "clf.fit(x_train,y_train)"
   ]
  },
  {
   "cell_type": "code",
   "execution_count": 57,
   "id": "7cdbcb6d-485d-4efb-baf7-4a6535d512d8",
   "metadata": {},
   "outputs": [
    {
     "data": {
      "text/plain": [
       "0.5551343220266419"
      ]
     },
     "execution_count": 57,
     "metadata": {},
     "output_type": "execute_result"
    }
   ],
   "source": [
    "clf.score(x_test,y_test)"
   ]
  },
  {
   "cell_type": "code",
   "execution_count": 45,
   "id": "1669e608-2699-46da-9b3e-44d52b8cb8f8",
   "metadata": {},
   "outputs": [
    {
     "data": {
      "text/plain": [
       "array([[9.25997544]])"
      ]
     },
     "execution_count": 45,
     "metadata": {},
     "output_type": "execute_result"
    }
   ],
   "source": [
    "clf.predict([[9.6,9.16,9.24]])"
   ]
  },
  {
   "cell_type": "markdown",
   "id": "93f6c5d7-2cdd-4ee6-b96b-79f24e04bfcf",
   "metadata": {},
   "source": [
    "### Save Model To a File Using Joblib"
   ]
  },
  {
   "cell_type": "code",
   "execution_count": 27,
   "id": "ced457e2-e79c-498b-9b73-c79f18eb91ef",
   "metadata": {},
   "outputs": [
    {
     "data": {
      "text/plain": [
       "['model_joblib']"
      ]
     },
     "execution_count": 27,
     "metadata": {},
     "output_type": "execute_result"
    }
   ],
   "source": [
    "import joblib\n",
    "joblib.dump(model, 'model_joblib')"
   ]
  },
  {
   "cell_type": "markdown",
   "id": "9ed0615d-fc6c-4227-a531-9f6cab556d28",
   "metadata": {},
   "source": [
    "#### Load Save Model"
   ]
  },
  {
   "cell_type": "code",
   "execution_count": 28,
   "id": "c45b3c5f-8567-469c-8d35-5633bce3e85c",
   "metadata": {},
   "outputs": [],
   "source": [
    "mj = joblib.load('model_joblib')"
   ]
  },
  {
   "cell_type": "code",
   "execution_count": 30,
   "id": "5dfe4489-57df-4cb0-808a-aee7198e433c",
   "metadata": {},
   "outputs": [
    {
     "data": {
      "text/plain": [
       "array([5.9371262])"
      ]
     },
     "execution_count": 30,
     "metadata": {},
     "output_type": "execute_result"
    }
   ],
   "source": [
    "mj.predict([[6.6,4.8,6.3]])"
   ]
  },
  {
   "cell_type": "code",
   "execution_count": null,
   "id": "90ff2b61-3667-4adc-897a-d9e6d6e3a900",
   "metadata": {},
   "outputs": [],
   "source": []
  }
 ],
 "metadata": {
  "kernelspec": {
   "display_name": "Python 3 (ipykernel)",
   "language": "python",
   "name": "python3"
  },
  "language_info": {
   "codemirror_mode": {
    "name": "ipython",
    "version": 3
   },
   "file_extension": ".py",
   "mimetype": "text/x-python",
   "name": "python",
   "nbconvert_exporter": "python",
   "pygments_lexer": "ipython3",
   "version": "3.11.7"
  }
 },
 "nbformat": 4,
 "nbformat_minor": 5
}
